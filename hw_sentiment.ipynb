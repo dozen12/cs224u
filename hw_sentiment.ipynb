{
 "cells": [
  {
   "cell_type": "markdown",
   "source": [
    "# Homework and bake-off: Sentiment analysis"
   ],
   "metadata": {}
  },
  {
   "cell_type": "code",
   "execution_count": 1,
   "source": [
    "__author__ = \"Christopher Potts\"\r\n",
    "__version__ = \"CS224u, Stanford, Spring 2021\""
   ],
   "outputs": [],
   "metadata": {}
  },
  {
   "cell_type": "markdown",
   "source": [
    "## Contents\n",
    "\n",
    "1. [Overview](#Overview)\n",
    "1. [Methodological note](#Methodological-note)\n",
    "1. [Set-up](#Set-up)\n",
    "1. [Train set](#Train-set)\n",
    "1. [Dev sets](#Dev-sets)\n",
    "1. [A softmax baseline](#A-softmax-baseline)\n",
    "1. [RNNClassifier wrapper](#RNNClassifier-wrapper)\n",
    "1. [Error analysis](#Error-analysis)\n",
    "1. [Homework questions](#Homework-questions)\n",
    "  1. [Token-level differences [1 point]](#Token-level-differences-[1-point])\n",
    "  1. [Training on some of the bakeoff data [1 point]](#Training-on-some-of-the-bakeoff-data-[1-point])\n",
    "  1. [A more powerful vector-averaging baseline [2 points]](#A-more-powerful-vector-averaging-baseline-[2-points])\n",
    "  1. [BERT encoding [2 points]](#BERT-encoding-[2-points])\n",
    "  1. [Your original system [3 points]](#Your-original-system-[3-points])\n",
    "1. [Bakeoff [1 point]](#Bakeoff-[1-point])\n",
    "1. [Submission Instruction](#Submission-Instruction)"
   ],
   "metadata": {}
  },
  {
   "cell_type": "markdown",
   "source": [
    "## Overview\r\n",
    "\r\n",
    "This homework and associated bakeoff are devoted to supervised sentiment analysis using the ternary (positive/negative/neutral) version of the Stanford Sentiment Treebank (SST-3) as well as a new dev/test dataset drawn from restaurant reviews. Our goal in introducing the new dataset is to push you to create a system that performs well in both the movie and restaurant domains.\r\n",
    "\r\n",
    "The homework questions ask you to implement some baseline system, and the bakeoff challenge is to define a system that does well at both the SST-3 test set and the new restaurant test set. Both are ternary tasks, and our central bakeoff score is the mean of the macro-FI scores for the two datasets. This assigns equal weight to all classes and datasets regardless of size.\r\n",
    "\r\n",
    "The SST-3 test set will be used for the bakeoff evaluation. This dataset is already publicly distributed, so we are counting on people not to cheat by developing their models on the test set. You must do all your development without using the test set at all, and then evaluate exactly once on the test set and turn in the results, with no further system tuning or additional runs. __Much of the scientific integrity of our field depends on people adhering to this honor code__. \r\n",
    "\r\n",
    "One of our goals for this homework and bakeoff is to encourage you to engage in __the basic development cycle for supervised models__, in which you\r\n",
    "\r\n",
    "1. Design a new system. We recommend starting with something simple.\r\n",
    "1. Use `sst.experiment` to evaluate your system, using random train/test splits initially.\r\n",
    "1. If you have time, compare your system with others using `sst.compare_models` or `utils.mcnemar`. (For discussion, see [this notebook section](sst_02_hand_built_features.ipynb#Statistical-comparison-of-classifier-models).)\r\n",
    "1. Return to step 1, or stop the cycle and conduct a more rigorous evaluation with hyperparameter tuning and assessment on the `dev` set.\r\n",
    "\r\n",
    "[Error analysis](#Error-analysis) is one of the most important methods for steadily improving a system, as it facilitates a kind of human-powered hill-climbing on your ultimate objective. Often, it takes a careful human analyst just a few examples to spot a major pattern that can lead to a beneficial change to the feature representations."
   ],
   "metadata": {}
  },
  {
   "cell_type": "markdown",
   "source": [
    "## Methodological note\n",
    "\n",
    "You don't have to use the experimental framework defined below (based on `sst`). The only constraint we need to place on your system is that it must have a `predict_one` method that can map directly from an example text to a prediction, and it must be able to make predictions without having any information beyond the text. (For example, it can't depend on knowing which task the text comes from.) See [the bakeoff section below](#Bakeoff-[1-point]) for examples of functions that conform to this specification."
   ],
   "metadata": {}
  },
  {
   "cell_type": "markdown",
   "source": [
    "## Set-up\n",
    "\n",
    "See [the first notebook in this unit](sst_01_overview.ipynb#Set-up) for set-up instructions."
   ],
   "metadata": {}
  },
  {
   "cell_type": "code",
   "execution_count": 2,
   "source": [
    "from collections import Counter\r\n",
    "import numpy as np\r\n",
    "import os\r\n",
    "import pandas as pd\r\n",
    "from sklearn.linear_model import LogisticRegression\r\n",
    "import torch.nn as nn\r\n",
    "\r\n",
    "from torch_rnn_classifier import TorchRNNClassifier\r\n",
    "from torch_tree_nn import TorchTreeNN\r\n",
    "import sst\r\n",
    "import utils"
   ],
   "outputs": [],
   "metadata": {}
  },
  {
   "cell_type": "code",
   "execution_count": 3,
   "source": [
    "SST_HOME = os.path.join('data', 'sentiment')"
   ],
   "outputs": [],
   "metadata": {}
  },
  {
   "cell_type": "markdown",
   "source": [
    "## Train set"
   ],
   "metadata": {}
  },
  {
   "cell_type": "markdown",
   "source": [
    "Our primary train set is the SST-3 train set:"
   ],
   "metadata": {}
  },
  {
   "cell_type": "code",
   "execution_count": 4,
   "source": [
    "sst_train = sst.train_reader(SST_HOME)"
   ],
   "outputs": [],
   "metadata": {}
  },
  {
   "cell_type": "code",
   "execution_count": 5,
   "source": [
    "sst_train.shape[0]"
   ],
   "outputs": [
    {
     "output_type": "execute_result",
     "data": {
      "text/plain": [
       "8544"
      ]
     },
     "metadata": {},
     "execution_count": 5
    }
   ],
   "metadata": {}
  },
  {
   "cell_type": "markdown",
   "source": [
    "This is the train set we will use for all the regular homework questions. You are welcome to bring in new datasets for your original system. You are also free to add `include_subtrees=True`. This is very likely to lead to better systems, but it substantially increases the overall size of the dataset (from 8,544 examples to 159,274), which will in turn substantially increase the time it takes to run experiments.\n",
    "\n",
    "See [this notebook](sst_01_overview.ipynb) for additional details of this dataset."
   ],
   "metadata": {}
  },
  {
   "cell_type": "markdown",
   "source": [
    "## Dev sets"
   ],
   "metadata": {}
  },
  {
   "cell_type": "markdown",
   "source": [
    "We have two development set. SST3-dev consists of sentences from movie reviews, just like SST-3 train:"
   ],
   "metadata": {}
  },
  {
   "cell_type": "code",
   "execution_count": 6,
   "source": [
    "sst_dev = sst.dev_reader(SST_HOME)"
   ],
   "outputs": [],
   "metadata": {}
  },
  {
   "cell_type": "markdown",
   "source": [
    "Our new bakeoff dev set consists of sentences from restaurant reviews:"
   ],
   "metadata": {}
  },
  {
   "cell_type": "code",
   "execution_count": 7,
   "source": [
    "bakeoff_dev = sst.bakeoff_dev_reader(SST_HOME)"
   ],
   "outputs": [],
   "metadata": {}
  },
  {
   "cell_type": "code",
   "execution_count": 8,
   "source": [
    "bakeoff_dev.sample(3, random_state=1).to_dict(orient='records')"
   ],
   "outputs": [
    {
     "output_type": "execute_result",
     "data": {
      "text/plain": [
       "[{'example_id': 57,\n",
       "  'sentence': 'I would recommend that you make reservations in advance.',\n",
       "  'label': 'neutral',\n",
       "  'is_subtree': 0},\n",
       " {'example_id': 590,\n",
       "  'sentence': 'We were welcomed warmly.',\n",
       "  'label': 'positive',\n",
       "  'is_subtree': 0},\n",
       " {'example_id': 1968,\n",
       "  'sentence': 'We have been to Oceanaire twice in the last 6 weeks.',\n",
       "  'label': 'neutral',\n",
       "  'is_subtree': 0}]"
      ]
     },
     "metadata": {},
     "execution_count": 8
    }
   ],
   "metadata": {}
  },
  {
   "cell_type": "markdown",
   "source": [
    "Here is the label distribution:"
   ],
   "metadata": {}
  },
  {
   "cell_type": "code",
   "execution_count": 9,
   "source": [
    "bakeoff_dev.label.value_counts()"
   ],
   "outputs": [
    {
     "output_type": "execute_result",
     "data": {
      "text/plain": [
       "neutral     1019\n",
       "positive     777\n",
       "negative     565\n",
       "Name: label, dtype: int64"
      ]
     },
     "metadata": {},
     "execution_count": 9
    }
   ],
   "metadata": {}
  },
  {
   "cell_type": "markdown",
   "source": [
    "The label distribution for the corresponding test set is similar to this."
   ],
   "metadata": {}
  },
  {
   "cell_type": "markdown",
   "source": [
    "## A softmax baseline\n",
    "\n",
    "This example is here mainly as a reminder of how to use our experimental framework with linear models:"
   ],
   "metadata": {}
  },
  {
   "cell_type": "code",
   "execution_count": 10,
   "source": [
    "def unigrams_phi(text):\r\n",
    "    return Counter(text.split())"
   ],
   "outputs": [],
   "metadata": {}
  },
  {
   "cell_type": "markdown",
   "source": [
    "Thin wrapper around `LogisticRegression` for the sake of `sst.experiment`:"
   ],
   "metadata": {}
  },
  {
   "cell_type": "code",
   "execution_count": 11,
   "source": [
    "def fit_softmax_classifier(X, y):\r\n",
    "    mod = LogisticRegression(\r\n",
    "        fit_intercept=True,\r\n",
    "        solver='liblinear',\r\n",
    "        multi_class='ovr')\r\n",
    "    mod.fit(X, y)\r\n",
    "    return mod"
   ],
   "outputs": [],
   "metadata": {}
  },
  {
   "cell_type": "markdown",
   "source": [
    "The experimental run with some notes:"
   ],
   "metadata": {}
  },
  {
   "cell_type": "code",
   "execution_count": 12,
   "source": [
    "softmax_experiment = sst.experiment(\r\n",
    "    sst.train_reader(SST_HOME),   # Train on any data you like except SST-3 test!\r\n",
    "    unigrams_phi,                 # Free to write your own!\r\n",
    "    fit_softmax_classifier,       # Free to write your own!\r\n",
    "    assess_dataframes=[sst_dev, bakeoff_dev]) # Free to change this during development!"
   ],
   "outputs": [
    {
     "output_type": "stream",
     "name": "stdout",
     "text": [
      "Assessment dataset 1\n",
      "              precision    recall  f1-score   support\n",
      "\n",
      "    negative      0.628     0.689     0.657       428\n",
      "     neutral      0.343     0.153     0.211       229\n",
      "    positive      0.629     0.750     0.684       444\n",
      "\n",
      "    accuracy                          0.602      1101\n",
      "   macro avg      0.533     0.531     0.518      1101\n",
      "weighted avg      0.569     0.602     0.575      1101\n",
      "\n",
      "Assessment dataset 2\n",
      "              precision    recall  f1-score   support\n",
      "\n",
      "    negative      0.272     0.690     0.390       565\n",
      "     neutral      0.429     0.113     0.179      1019\n",
      "    positive      0.409     0.346     0.375       777\n",
      "\n",
      "    accuracy                          0.328      2361\n",
      "   macro avg      0.370     0.383     0.315      2361\n",
      "weighted avg      0.385     0.328     0.294      2361\n",
      "\n",
      "Mean of macro-F1 scores: 0.416\n"
     ]
    }
   ],
   "metadata": {}
  },
  {
   "cell_type": "markdown",
   "source": [
    "`softmax_experiment` contains a lot of information that you can use for error analysis; see [this section below](#Error-analysis) for starter code."
   ],
   "metadata": {}
  },
  {
   "cell_type": "markdown",
   "source": [
    "## RNNClassifier wrapper\n",
    "\n",
    "This section illustrates how to use `sst.experiment` with `TorchRNNClassifier`."
   ],
   "metadata": {}
  },
  {
   "cell_type": "markdown",
   "source": [
    "To featurize examples for an RNN, we can just get the words in order, letting the model take care of mapping them into an embedding space."
   ],
   "metadata": {}
  },
  {
   "cell_type": "code",
   "execution_count": 13,
   "source": [
    "def rnn_phi(text):\r\n",
    "    return text.split()"
   ],
   "outputs": [],
   "metadata": {}
  },
  {
   "cell_type": "markdown",
   "source": [
    "The model wrapper gets the vocabulary using `sst.get_vocab`. If you want to use pretrained word representations in here, then you can have `fit_rnn_classifier` build that space too; see [this notebook section for details](sst_03_neural_networks.ipynb#Pretrained-embeddings). See also [torch_model_base.py](torch_model_base.py) for details on the many optimization parameters that `TorchRNNClassifier` accepts."
   ],
   "metadata": {}
  },
  {
   "cell_type": "code",
   "execution_count": 14,
   "source": [
    "def fit_rnn_classifier(X, y):\r\n",
    "    sst_glove_vocab = utils.get_vocab(X, mincount=2)\r\n",
    "    mod = TorchRNNClassifier(\r\n",
    "        sst_glove_vocab,\r\n",
    "        early_stopping=True)\r\n",
    "    mod.fit(X, y)\r\n",
    "    return mod"
   ],
   "outputs": [],
   "metadata": {}
  },
  {
   "cell_type": "code",
   "execution_count": 15,
   "source": [
    "rnn_experiment = sst.experiment(\r\n",
    "    sst.train_reader(SST_HOME),\r\n",
    "    rnn_phi,\r\n",
    "    fit_rnn_classifier,\r\n",
    "    vectorize=False,  # For deep learning, use `vectorize=False`.\r\n",
    "    assess_dataframes=[sst_dev, bakeoff_dev])"
   ],
   "outputs": [
    {
     "output_type": "stream",
     "name": "stderr",
     "text": [
      "Stopping after epoch 55. Validation score did not improve by tol=1e-05 for more than 10 epochs. Final error is 0.7977529615163803"
     ]
    },
    {
     "output_type": "stream",
     "name": "stdout",
     "text": [
      "Assessment dataset 1\n",
      "              precision    recall  f1-score   support\n",
      "\n",
      "    negative      0.609     0.554     0.580       428\n",
      "     neutral      0.218     0.214     0.216       229\n",
      "    positive      0.606     0.664     0.634       444\n",
      "\n",
      "    accuracy                          0.528      1101\n",
      "   macro avg      0.478     0.477     0.477      1101\n",
      "weighted avg      0.526     0.528     0.526      1101\n",
      "\n",
      "Assessment dataset 2\n",
      "              precision    recall  f1-score   support\n",
      "\n",
      "    negative      0.327     0.467     0.385       565\n",
      "     neutral      0.455     0.088     0.148      1019\n",
      "    positive      0.351     0.611     0.446       777\n",
      "\n",
      "    accuracy                          0.351      2361\n",
      "   macro avg      0.377     0.389     0.326      2361\n",
      "weighted avg      0.390     0.351     0.303      2361\n",
      "\n",
      "Mean of macro-F1 scores: 0.401\n"
     ]
    }
   ],
   "metadata": {}
  },
  {
   "cell_type": "markdown",
   "source": [
    "## Error analysis\n",
    "\n",
    "This section begins to build an error-analysis framework using the dicts returned by `sst.experiment`. These have the following structure:\n",
    "\n",
    "```\n",
    "'model': trained model\n",
    "'phi': the feature function used\n",
    "'train_dataset':\n",
    "   'X': feature matrix\n",
    "   'y': list of labels\n",
    "   'vectorizer': DictVectorizer,\n",
    "   'raw_examples': list of raw inputs, before featurizing   \n",
    "'assess_datasets': list of datasets, each with the same structure as the value of 'train_dataset'\n",
    "'predictions': list of lists of predictions on the assessment datasets\n",
    "'metric': `score_func.__name__`, where `score_func` is an `sst.experiment` argument\n",
    "'score': the `score_func` score on the each of the assessment dataasets\n",
    "```\n",
    "The following function just finds mistakes, and returns a `pd.DataFrame` for easy subsequent processing:"
   ],
   "metadata": {}
  },
  {
   "cell_type": "code",
   "execution_count": 16,
   "source": [
    "def find_errors(experiment):\r\n",
    "    \"\"\"Find mistaken predictions.\r\n",
    "\r\n",
    "    Parameters\r\n",
    "    ----------\r\n",
    "    experiment : dict\r\n",
    "        As returned by `sst.experiment`.\r\n",
    "\r\n",
    "    Returns\r\n",
    "    -------\r\n",
    "    pd.DataFrame\r\n",
    "\r\n",
    "    \"\"\"\r\n",
    "    dfs = []\r\n",
    "    for i, dataset in enumerate(experiment['assess_datasets']):\r\n",
    "        df = pd.DataFrame({\r\n",
    "            'raw_examples': dataset['raw_examples'],\r\n",
    "            'predicted': experiment['predictions'][i],\r\n",
    "            'gold': dataset['y']})\r\n",
    "        df['correct'] = df['predicted'] == df['gold']\r\n",
    "        df['dataset'] = i\r\n",
    "        dfs.append(df)\r\n",
    "    return pd.concat(dfs)"
   ],
   "outputs": [],
   "metadata": {}
  },
  {
   "cell_type": "code",
   "execution_count": 17,
   "source": [
    "softmax_analysis = find_errors(softmax_experiment)"
   ],
   "outputs": [],
   "metadata": {}
  },
  {
   "cell_type": "code",
   "execution_count": 18,
   "source": [
    "rnn_analysis = find_errors(rnn_experiment)"
   ],
   "outputs": [],
   "metadata": {}
  },
  {
   "cell_type": "markdown",
   "source": [
    "Here we merge the sotmax and RNN experiments into a single DataFrame:"
   ],
   "metadata": {}
  },
  {
   "cell_type": "code",
   "execution_count": 19,
   "source": [
    "analysis = softmax_analysis.merge(\r\n",
    "    rnn_analysis, left_on='raw_examples', right_on='raw_examples')\r\n",
    "\r\n",
    "analysis = analysis.drop('gold_y', axis=1).rename(columns={'gold_x': 'gold'})"
   ],
   "outputs": [],
   "metadata": {}
  },
  {
   "cell_type": "markdown",
   "source": [
    "The following code collects a specific subset of examples; small modifications to its structure will give you different interesting subsets:"
   ],
   "metadata": {}
  },
  {
   "cell_type": "code",
   "execution_count": 20,
   "source": [
    "# Examples where the softmax model is correct, the RNN is not,\r\n",
    "# and the gold label is 'positive'\r\n",
    "\r\n",
    "error_group = analysis[\r\n",
    "    (analysis['predicted_x'] == analysis['gold'])\r\n",
    "    &\r\n",
    "    (analysis['predicted_y'] != analysis['gold'])\r\n",
    "    &\r\n",
    "    (analysis['gold'] == 'positive')\r\n",
    "]"
   ],
   "outputs": [],
   "metadata": {}
  },
  {
   "cell_type": "code",
   "execution_count": 21,
   "source": [
    "error_group.shape[0]"
   ],
   "outputs": [
    {
     "output_type": "execute_result",
     "data": {
      "text/plain": [
       "128"
      ]
     },
     "metadata": {},
     "execution_count": 21
    }
   ],
   "metadata": {}
  },
  {
   "cell_type": "code",
   "execution_count": 22,
   "source": [
    "for ex in error_group['raw_examples'].sample(5, random_state=1):\r\n",
    "    print(\"=\"*70)\r\n",
    "    print(ex)"
   ],
   "outputs": [
    {
     "output_type": "stream",
     "name": "stdout",
     "text": [
      "======================================================================\n",
      "We just enjoy Doc's every time we go.\n",
      "======================================================================\n",
      "Had a great time, second time at Cherry Hill!\n",
      "======================================================================\n",
      "I just loved every minute of this film .\n",
      "======================================================================\n",
      "Few films capture so perfectly the hopes and dreams of little boys on baseball fields as well as the grown men who sit in the stands .\n",
      "======================================================================\n",
      "There has always been something likable about the Marquis de Sade .\n"
     ]
    }
   ],
   "metadata": {}
  },
  {
   "cell_type": "markdown",
   "source": [
    "## Homework questions\n",
    "\n",
    "Please embed your homework responses in this notebook, and do not delete any cells from the notebook. (You are free to add as many cells as you like as part of your responses.)"
   ],
   "metadata": {}
  },
  {
   "cell_type": "markdown",
   "source": [
    "### Token-level differences [1 point]"
   ],
   "metadata": {}
  },
  {
   "cell_type": "markdown",
   "source": [
    "We can begin to get a sense for how our two dev sets differ by considering the most frequent tokens from each. This question asks you to begin such analysis.\n",
    "\n",
    "Your task: write a function `get_token_counts` that, given a `pd.DataFrame` in the format of our datasets, tokenizes the example sentences based on whitespace and creates a count distribution over all of the tokens. The function should return a `pd.Series` sorted by frequency; if you create a count dictionary `d`, then `pd.Series(d).sort_values(ascending=False)` will give you what you need."
   ],
   "metadata": {}
  },
  {
   "cell_type": "code",
   "execution_count": 33,
   "source": [
    "def get_token_counts(df):\r\n",
    "    pass\r\n",
    "    ##### YOUR CODE HERE\r\n",
    "    df_list = df['sentence'].map(lambda x: x.split()).tolist()\r\n",
    "    token_list = []\r\n",
    "    for tokens in df_list:\r\n",
    "        token_list += tokens\r\n",
    "    return pd.Series(dict(Counter(token_list))).sort_values(ascending=False)\r\n"
   ],
   "outputs": [],
   "metadata": {}
  },
  {
   "cell_type": "code",
   "execution_count": 34,
   "source": [
    "def test_get_token_counts(func):\r\n",
    "    df = pd.DataFrame([\r\n",
    "        {'sentence': 'a a b'},\r\n",
    "        {'sentence': 'a b a'},\r\n",
    "        {'sentence': 'a a a b.'}])\r\n",
    "    result = func(df)\r\n",
    "    for token, expected in (('a', 7), ('b', 2), ('b.', 1)):\r\n",
    "        actual = result.loc[token]\r\n",
    "        assert actual == expected, \\\r\n",
    "            \"For token {}, expected {}; got {}\".format(\r\n",
    "            token, expected, actual)"
   ],
   "outputs": [],
   "metadata": {}
  },
  {
   "cell_type": "code",
   "execution_count": 35,
   "source": [
    "if 'IS_GRADESCOPE_ENV' not in os.environ:\r\n",
    "    test_get_token_counts(get_token_counts)"
   ],
   "outputs": [],
   "metadata": {}
  },
  {
   "cell_type": "markdown",
   "source": [
    "As you develop your original system, you might review these results. The two dev sets have different vocabularies and different low-level encoding details that are sure to impact model performance, especially when one considers that the train set is like `sst_dev` in all these respects. For additional discussion, see [this notebook section](sst_01_overview.ipynb#Tokenization)."
   ],
   "metadata": {}
  },
  {
   "cell_type": "markdown",
   "source": [
    "### Training on some of the bakeoff data [1 point]"
   ],
   "metadata": {}
  },
  {
   "cell_type": "markdown",
   "source": [
    "We have so far presented the bakeoff dev set as purely for evaluation. Since the train set consists entirely of SST-3 data, this makes the bakeoff split especially challenging. We might be able to reduce the challenging by adding some of the bakeoff dev set to the train set, keeping some of it for evaluation. The current question asks to begin explore the effects of such training.\n",
    "\n",
    "Your task: write a function `run_mixed_training_experiment`. The function should:\n",
    "\n",
    "1. Take as inputs (a) a model training wrapper like `fit_softmax_classifier` and (b) an integer `bakeoff_train_size` specifying the number of examples from `bakeoff_dev` that should be included in the train set.\n",
    "1. Split `bakeoff_dev` so that the first `bakeoff_train_size` examples are in the train set and the rest are used for evaluation.\n",
    "1. Use `sst.experiment` with the user-supplied model training wrapper, `unigram_phi` as defined above, and a train set that consists of SST-3 train and the train portion of `bakeoff_dev` as defined in step 2. The value of `assess_dataframes` should be a list consisting of the SST-3 dev set and the evaluation portion of `bakeoff_dev` as defined in step 2.\n",
    "1. Return the return value of `sst.experiment`.\n",
    "\n",
    "The function `test_run_mixed_training_experiment` will help you iterate to the required design."
   ],
   "metadata": {}
  },
  {
   "cell_type": "code",
   "execution_count": 62,
   "source": [
    "def run_mixed_training_experiment(wrapper_func, bakeoff_train_size):\r\n",
    "    pass\r\n",
    "    ##### YOUR CODE HERE\r\n",
    "    from sklearn.model_selection import train_test_split\r\n",
    "    train_df, test_df = train_test_split(bakeoff_dev,train_size=bakeoff_train_size)\r\n",
    "    experiment = sst.experiment(\r\n",
    "        sst.train_reader(SST_HOME).append(train_df),   \r\n",
    "        unigrams_phi,                 \r\n",
    "        wrapper_func,       \r\n",
    "        assess_dataframes=[sst_dev, test_df])\r\n",
    "    return experiment\r\n"
   ],
   "outputs": [],
   "metadata": {}
  },
  {
   "cell_type": "code",
   "execution_count": 63,
   "source": [
    "def test_run_mixed_training_experiment(func):\r\n",
    "    bakeoff_train_size = 1000\r\n",
    "    experiment = func(fit_softmax_classifier, bakeoff_train_size)\r\n",
    "\r\n",
    "    assess_size = len(experiment['assess_datasets'])\r\n",
    "    assert len(experiment['assess_datasets']) == 2, \\\r\n",
    "        (\"The evaluation should be done on two datasets: \"\r\n",
    "         \"SST3 and part of the bakeoff dev set. \"\r\n",
    "         \"You have {} datasets.\".format(assess_size))\r\n",
    "\r\n",
    "    bakeoff_test_size = bakeoff_dev.shape[0] - bakeoff_train_size\r\n",
    "    expected_eval_examples = bakeoff_test_size + sst_dev.shape[0]\r\n",
    "    eval_examples = sum(len(d['raw_examples']) for d in experiment['assess_datasets'])\r\n",
    "    assert expected_eval_examples == eval_examples, \\\r\n",
    "        \"Expected {} evaluation examples; got {}\".format(\r\n",
    "        expected_eval_examples, eval_examples)"
   ],
   "outputs": [],
   "metadata": {}
  },
  {
   "cell_type": "code",
   "execution_count": 64,
   "source": [
    "def test_run_mixed_training_experiment(func):\r\n",
    "    bakeoff_train_size = 1000\r\n",
    "    experiment = func(fit_softmax_classifier, bakeoff_train_size)\r\n",
    "\r\n",
    "    assess_size = len(experiment['assess_datasets'])\r\n",
    "    assert len(experiment['assess_datasets']) == 2, \\\r\n",
    "        (\"The evaluation should be done on two datasets: \"\r\n",
    "         \"SST3 and part of the bakeoff dev set. \"\r\n",
    "         \"You have {} datasets.\".format(assess_size))\r\n",
    "\r\n",
    "    bakeoff_test_size = bakeoff_dev.shape[0] - bakeoff_train_size\r\n",
    "    expected_eval_examples = bakeoff_test_size + sst_dev.shape[0]\r\n",
    "    eval_examples = sum(len(d['raw_examples']) for d in experiment['assess_datasets'])\r\n",
    "    assert expected_eval_examples == eval_examples, \\\r\n",
    "        \"Expected {} evaluation examples; got {}\".format(\r\n",
    "        expected_eval_examples, eval_examples)"
   ],
   "outputs": [],
   "metadata": {}
  },
  {
   "cell_type": "code",
   "execution_count": 65,
   "source": [
    "if 'IS_GRADESCOPE_ENV' not in os.environ:\r\n",
    "    test_run_mixed_training_experiment(run_mixed_training_experiment)"
   ],
   "outputs": [
    {
     "output_type": "stream",
     "name": "stdout",
     "text": [
      "Assessment dataset 1\n",
      "              precision    recall  f1-score   support\n",
      "\n",
      "    negative      0.641     0.687     0.663       428\n",
      "     neutral      0.330     0.166     0.221       229\n",
      "    positive      0.639     0.759     0.694       444\n",
      "\n",
      "    accuracy                          0.608      1101\n",
      "   macro avg      0.537     0.537     0.526      1101\n",
      "weighted avg      0.576     0.608     0.584      1101\n",
      "\n",
      "Assessment dataset 2\n",
      "              precision    recall  f1-score   support\n",
      "\n",
      "    negative      0.485     0.411     0.445       316\n",
      "     neutral      0.590     0.606     0.598       606\n",
      "    positive      0.512     0.549     0.530       439\n",
      "\n",
      "    accuracy                          0.542      1361\n",
      "   macro avg      0.529     0.522     0.524      1361\n",
      "weighted avg      0.540     0.542     0.540      1361\n",
      "\n",
      "Mean of macro-F1 scores: 0.525\n"
     ]
    }
   ],
   "metadata": {}
  },
  {
   "cell_type": "markdown",
   "source": [
    "### A more powerful vector-averaging baseline [2 points]\n",
    "\n",
    "In [Distributed representations as features](sst_03_neural_networks.ipynb#Distributed-representations-as-features), we looked at a baseline for the ternary SST-3 problem in which each example is modeled as the mean of its GloVe representations. A `LogisticRegression` model was used for prediction. A neural network might do better with these representations, since there might be complex relationships between the input feature dimensions that a linear classifier can't learn. To address this question, we want to get set up to run the experiment with a shallow neural classifier. \n",
    "\n",
    "Your task: write and submit a model wrapper function around `TorchShallowNeuralClassifier`. This function should implement hyperparameter search according to this specification:\n",
    "\n",
    "* Set `early_stopping=True` for all experiments.\n",
    "* Using 3-fold cross-validation, exhaustively explore this set of hyperparameter combinations:\n",
    "  * The hidden dimensionality at 50, 100, and 200.\n",
    "  * The hidden activation function as `nn.Tanh()` and `nn.ReLU()`.\n",
    "* For all other parameters to `TorchShallowNeuralClassifier`, use the defaults.\n",
    "\n",
    "See [this notebook section](sst_02_hand_built_features.ipynb#Hyperparameter-search) for examples. You are not required to run a full evaluation with this function using `sst.experiment`, but we assume you will want to.\n",
    "\n",
    "We're not evaluating the quality of your model. (We've specified the protocols completely, but there will still be variation in the results.) However, the primary goal of this question is to get you thinking more about this strong baseline feature representation scheme for SST-3, so we're sort of hoping you feel compelled to try out variations on your own."
   ],
   "metadata": {}
  },
  {
   "cell_type": "code",
   "execution_count": 118,
   "source": [
    "from torch_shallow_neural_classifier import TorchShallowNeuralClassifier\r\n",
    "\r\n",
    "def fit_shallow_neural_classifier_with_hyperparameter_search(X, y):\r\n",
    "    pass\r\n",
    "    ##### YOUR CODE HERE\r\n",
    "    model = TorchShallowNeuralClassifier(early_stopping=True)\r\n",
    "    param_grid = {\r\n",
    "        'hidden_dim': [50,100,200],\r\n",
    "        'hidden_activation': [nn.Tanh(), nn.ReLU()]}\r\n",
    "    best_mod = utils.fit_classifier_with_hyperparameter_search(\r\n",
    "        X, y, model, 3, param_grid)\r\n",
    "    return best_mod\r\n",
    "    "
   ],
   "outputs": [],
   "metadata": {}
  },
  {
   "cell_type": "code",
   "execution_count": 119,
   "source": [
    "softmax_experiment = sst.experiment(\r\n",
    "    sst.train_reader(SST_HOME),\r\n",
    "    unigrams_phi,\r\n",
    "    fit_shallow_neural_classifier_with_hyperparameter_search,\r\n",
    "    assess_dataframes=sst.dev_reader(SST_HOME))"
   ],
   "outputs": [
    {
     "output_type": "stream",
     "name": "stderr",
     "text": [
      "Stopping after epoch 24. Validation score did not improve by tol=1e-05 for more than 10 epochs. Final error is 0.6473507210612297"
     ]
    },
    {
     "output_type": "stream",
     "name": "stdout",
     "text": [
      "Best params: {'hidden_activation': Tanh(), 'hidden_dim': 100}\n",
      "Best score: 0.534\n",
      "              precision    recall  f1-score   support\n",
      "\n",
      "    negative      0.629     0.673     0.650       428\n",
      "     neutral      0.287     0.153     0.199       229\n",
      "    positive      0.641     0.752     0.692       444\n",
      "\n",
      "    accuracy                          0.597      1101\n",
      "   macro avg      0.519     0.526     0.514      1101\n",
      "weighted avg      0.563     0.597     0.573      1101\n",
      "\n"
     ]
    }
   ],
   "metadata": {}
  },
  {
   "cell_type": "markdown",
   "source": [
    "### BERT encoding [2 points]"
   ],
   "metadata": {}
  },
  {
   "cell_type": "markdown",
   "source": [
    "We might hypothesize that encoding our examples with BERT will yield improvements over the GloVe averaging method explored in the previous question, since BERT implements a much more complex and data-driven function for this kind of combination. This question asks you to begin exploring this general hypothesis.\n",
    "\n",
    "Your task: write a function `hf_cls_phi` that uses Hugging Face functionality to encode individual examples with BERT and returns the final output representation above the [CLS] token.\n",
    "\n",
    "You are not required to evaluate this feature function, but it is easy to do so with `sst.experiment` and `vectorize=False` (since your feature function directly encodes every example as a vector). Your code should also be a natural basis for even more powerful approaches – for example, it might be even better to pool all the output states rather than using just the first output state. Another option is [fine-tuning](finetuning.ipynb)."
   ],
   "metadata": {}
  },
  {
   "cell_type": "code",
   "execution_count": 115,
   "source": [
    "from transformers import BertModel, BertTokenizer\r\n",
    "import vsm\r\n",
    "\r\n",
    "# Instantiate a Bert model and tokenizer based on `bert_weights_name`:\r\n",
    "bert_weights_name = 'bert-base-uncased'\r\n",
    "##### YOUR CODE HERE\r\n",
    "bert_model = BertModel.from_pretrained(bert_weights_name)\r\n",
    "bert_tokenizer = BertTokenizer.from_pretrained(bert_weights_name)\r\n",
    "\r\n",
    "def hf_cls_phi(text):\r\n",
    "    # Get the ids. `vsm.hf_encode` will help; be sure to\r\n",
    "    # set `add_special_tokens=True`.\r\n",
    "    ##### YOUR CODE HERE\r\n",
    "    batch_ids = vsm.hf_encode(text, bert_tokenizer, add_special_tokens=True)\r\n",
    "\r\n",
    "    # Get the BERT representations. `vsm.hf_represent` will help:\r\n",
    "    ##### YOUR CODE HERE\r\n",
    "    reps = vsm.hf_represent(batch_ids, bert_model)\r\n",
    "\r\n",
    "    # Index into `reps` to get the representation above [CLS].\r\n",
    "    # The shape of `reps` should be (1, n, 768), where n is the\r\n",
    "    # number of tokens. You need the 0th element of the 2nd dim:\r\n",
    "    ##### YOUR CODE HERE\r\n",
    "    cls_rep = reps[0][0]\r\n",
    "\r\n",
    "    # These conversions should ensure that you can work with the\r\n",
    "    # representations flexibly. Feel free to change the variable\r\n",
    "    # name:\r\n",
    "    return cls_rep.cpu().numpy()"
   ],
   "outputs": [],
   "metadata": {}
  },
  {
   "cell_type": "code",
   "execution_count": 116,
   "source": [
    "def test_hf_cls_phi(func):\r\n",
    "    rep = func(\"Just testing!\")\r\n",
    "\r\n",
    "    expected_shape = (768,)\r\n",
    "    result_shape = rep.shape\r\n",
    "    assert rep.shape == (768,), \\\r\n",
    "        \"Expected shape {}; got {}\".format(\r\n",
    "        expected_shape, result_shape)\r\n",
    "\r\n",
    "    # String conversion to avoid precision errors:\r\n",
    "    expected_first_val = str(0.1709)\r\n",
    "    result_first_val = \"{0:.04f}\".format(rep[0])\r\n",
    "\r\n",
    "    assert expected_first_val == result_first_val, \\\r\n",
    "        (\"Unexpected representation values. Expected the \"\r\n",
    "        \"first value to be {}; got {}\".format(\r\n",
    "            expected_first_val, result_first_val))"
   ],
   "outputs": [],
   "metadata": {}
  },
  {
   "cell_type": "code",
   "execution_count": 117,
   "source": [
    "if 'IS_GRADESCOPE_ENV' not in os.environ:\r\n",
    "    test_hf_cls_phi(hf_cls_phi)"
   ],
   "outputs": [],
   "metadata": {}
  },
  {
   "cell_type": "markdown",
   "source": [
    "Note: encoding all of SST-3 train (no subtrees) takes about 11 minutes on my 2015 iMac, CPU only (32GB)."
   ],
   "metadata": {}
  },
  {
   "cell_type": "markdown",
   "source": [
    "### Your original system [3 points]\r\n",
    "\r\n",
    "Your task is to develop an original model for the SST-3 problem and our new bakeoff dataset. There are many options. If you spend more than a few hours on this homework problem, you should consider letting it grow into your final project! Here are some relatively manageable ideas that you might try:\r\n",
    "\r\n",
    "1. We didn't systematically evaluate the `bidirectional` option to the `TorchRNNClassifier`. Similarly, that model could be tweaked to allow multiple LSTM layers (at present there is only one), and you could try adding layers to the classifier portion of the model as well.\r\n",
    "\r\n",
    "1. We've already glimpsed the power of rich initial word representations, and later in the course we'll see that smart initialization usually leads to a performance gain in NLP, so you could perhaps achieve a winning entry with a simple model that starts in a great place.\r\n",
    "\r\n",
    "1. Our [practical introduction to contextual word representations](finetuning.ipynb) covers pretrained representations and interfaces that are likely to boost the performance of any system.\r\n",
    "\r\n",
    "We want to emphasize that this needs to be an __original__ system. It doesn't suffice to download code from the Web, retrain, and submit. You can build on others' code, but you have to do something new and meaningful with it. See the course website for additional guidance on how original systems will be evaluated.\r\n",
    "\r\n",
    "In the cell below, please provide a brief technical description of your original system, so that the teaching team can gain an understanding of what it does. This will help us to understand your code and analyze all the submissions to identify patterns and strategies.  We also ask that you report the best score your system got during development (your best average of macro-F1 scores), just to help us understand how systems performed overall."
   ],
   "metadata": {}
  },
  {
   "cell_type": "code",
   "execution_count": 124,
   "source": [
    "from nltk.sentiment.util import mark_negation\r\n",
    "\r\n",
    "def neg_unigrams_phi(text):\r\n",
    "    mark_negation(text.split())"
   ],
   "outputs": [],
   "metadata": {}
  },
  {
   "cell_type": "code",
   "execution_count": 125,
   "source": [
    "sent = \"I didn't like this movie . It was bad .\".split()"
   ],
   "outputs": [],
   "metadata": {}
  },
  {
   "cell_type": "code",
   "execution_count": 123,
   "source": [
    "sst_train = sst.train_reader(SST_HOME, include_subtrees=True)\r\n",
    "sst_dev = sst.dev_reader(SST_HOME)"
   ],
   "outputs": [
    {
     "output_type": "execute_result",
     "data": {
      "text/html": [
       "<div>\n",
       "<style scoped>\n",
       "    .dataframe tbody tr th:only-of-type {\n",
       "        vertical-align: middle;\n",
       "    }\n",
       "\n",
       "    .dataframe tbody tr th {\n",
       "        vertical-align: top;\n",
       "    }\n",
       "\n",
       "    .dataframe thead th {\n",
       "        text-align: right;\n",
       "    }\n",
       "</style>\n",
       "<table border=\"1\" class=\"dataframe\">\n",
       "  <thead>\n",
       "    <tr style=\"text-align: right;\">\n",
       "      <th></th>\n",
       "      <th>example_id</th>\n",
       "      <th>sentence</th>\n",
       "      <th>label</th>\n",
       "      <th>is_subtree</th>\n",
       "    </tr>\n",
       "  </thead>\n",
       "  <tbody>\n",
       "    <tr>\n",
       "      <th>0</th>\n",
       "      <td>00001-00001</td>\n",
       "      <td>The Rock is destined to be the 21st Century 's...</td>\n",
       "      <td>positive</td>\n",
       "      <td>0</td>\n",
       "    </tr>\n",
       "    <tr>\n",
       "      <th>1</th>\n",
       "      <td>00001-00002</td>\n",
       "      <td>The Rock</td>\n",
       "      <td>neutral</td>\n",
       "      <td>1</td>\n",
       "    </tr>\n",
       "    <tr>\n",
       "      <th>2</th>\n",
       "      <td>00001-00003</td>\n",
       "      <td>The</td>\n",
       "      <td>neutral</td>\n",
       "      <td>1</td>\n",
       "    </tr>\n",
       "    <tr>\n",
       "      <th>3</th>\n",
       "      <td>00001-00004</td>\n",
       "      <td>Rock</td>\n",
       "      <td>neutral</td>\n",
       "      <td>1</td>\n",
       "    </tr>\n",
       "    <tr>\n",
       "      <th>4</th>\n",
       "      <td>00001-00005</td>\n",
       "      <td>is destined to be the 21st Century 's new `` C...</td>\n",
       "      <td>positive</td>\n",
       "      <td>1</td>\n",
       "    </tr>\n",
       "    <tr>\n",
       "      <th>...</th>\n",
       "      <td>...</td>\n",
       "      <td>...</td>\n",
       "      <td>...</td>\n",
       "      <td>...</td>\n",
       "    </tr>\n",
       "    <tr>\n",
       "      <th>318577</th>\n",
       "      <td>08544-00005</td>\n",
       "      <td>case zero .</td>\n",
       "      <td>negative</td>\n",
       "      <td>1</td>\n",
       "    </tr>\n",
       "    <tr>\n",
       "      <th>318578</th>\n",
       "      <td>08544-00006</td>\n",
       "      <td>case</td>\n",
       "      <td>neutral</td>\n",
       "      <td>1</td>\n",
       "    </tr>\n",
       "    <tr>\n",
       "      <th>318579</th>\n",
       "      <td>08544-00007</td>\n",
       "      <td>zero .</td>\n",
       "      <td>negative</td>\n",
       "      <td>1</td>\n",
       "    </tr>\n",
       "    <tr>\n",
       "      <th>318580</th>\n",
       "      <td>08544-00008</td>\n",
       "      <td>zero</td>\n",
       "      <td>negative</td>\n",
       "      <td>1</td>\n",
       "    </tr>\n",
       "    <tr>\n",
       "      <th>318581</th>\n",
       "      <td>08544-00009</td>\n",
       "      <td>.</td>\n",
       "      <td>neutral</td>\n",
       "      <td>1</td>\n",
       "    </tr>\n",
       "  </tbody>\n",
       "</table>\n",
       "<p>318582 rows × 4 columns</p>\n",
       "</div>"
      ],
      "text/plain": [
       "         example_id                                           sentence  \\\n",
       "0       00001-00001  The Rock is destined to be the 21st Century 's...   \n",
       "1       00001-00002                                           The Rock   \n",
       "2       00001-00003                                                The   \n",
       "3       00001-00004                                               Rock   \n",
       "4       00001-00005  is destined to be the 21st Century 's new `` C...   \n",
       "...             ...                                                ...   \n",
       "318577  08544-00005                                        case zero .   \n",
       "318578  08544-00006                                               case   \n",
       "318579  08544-00007                                             zero .   \n",
       "318580  08544-00008                                               zero   \n",
       "318581  08544-00009                                                  .   \n",
       "\n",
       "           label  is_subtree  \n",
       "0       positive           0  \n",
       "1        neutral           1  \n",
       "2        neutral           1  \n",
       "3        neutral           1  \n",
       "4       positive           1  \n",
       "...          ...         ...  \n",
       "318577  negative           1  \n",
       "318578   neutral           1  \n",
       "318579  negative           1  \n",
       "318580  negative           1  \n",
       "318581   neutral           1  \n",
       "\n",
       "[318582 rows x 4 columns]"
      ]
     },
     "metadata": {},
     "execution_count": 123
    }
   ],
   "metadata": {}
  },
  {
   "cell_type": "code",
   "execution_count": null,
   "source": [
    "# PLEASE MAKE SURE TO INCLUDE THE FOLLOWING BETWEEN THE START AND STOP COMMENTS:\r\n",
    "#   1) Textual description of your system.\r\n",
    "#   2) The code for your original system.\r\n",
    "#   3) The score achieved by your system in place of MY_NUMBER.\r\n",
    "#        With no other changes to that line.\r\n",
    "#        You should report your score as a decimal value <=1.0\r\n",
    "# PLEASE MAKE SURE NOT TO DELETE OR EDIT THE START AND STOP COMMENTS\r\n",
    "\r\n",
    "# NOTE: MODULES, CODE AND DATASETS REQUIRED FOR YOUR ORIGINAL SYSTEM\r\n",
    "# SHOULD BE ADDED BELOW THE 'IS_GRADESCOPE_ENV' CHECK CONDITION. DOING\r\n",
    "# SO ABOVE THE CHECK MAY CAUSE THE AUTOGRADER TO FAIL.\r\n",
    "\r\n",
    "# START COMMENT: Enter your system description in this cell.\r\n",
    "# My peak score was: MY_NUMBER\r\n",
    "if 'IS_GRADESCOPE_ENV' not in os.environ:\r\n",
    "    pass\r\n",
    "    \r\n",
    "\r\n",
    "# STOP COMMENT: Please do not remove this comment."
   ],
   "outputs": [],
   "metadata": {}
  },
  {
   "cell_type": "markdown",
   "source": [
    "## Bakeoff [1 point]\r\n",
    "\r\n",
    "As we said above, the bakeoff evaluation data is the official SST test-set release and a new test set derived from the same sources and labeling methods as for `bakeoff_dev`.\r\n",
    "\r\n",
    "For this bakeoff, you'll evaluate your original system from the above homework problem on these test sets. Our metric will be the mean of the macro-F1 values, which weights both datasets equally despite their differing sizes.\r\n",
    "\r\n",
    "The central requirement for your system is that you have define a `predict_one` method for it that maps a text (str) directly to a label prediction – one of 'positive', 'negative', 'neutral'. If you used `sst.experiment` with `vectorize=True`, then the following function (for `softmax_experiment`) will be easy to adapt – you probably just need to change the variable `softmax_experiment` to the variable for your experiment output."
   ],
   "metadata": {}
  },
  {
   "cell_type": "code",
   "execution_count": null,
   "source": [
    "def predict_one_softmax(text):\r\n",
    "    # Singleton list of feature dicts:\r\n",
    "    feats = [softmax_experiment['phi'](text)]\r\n",
    "    # Vectorize to get a feature matrix:\r\n",
    "    X = softmax_experiment['train_dataset']['vectorizer'].transform(feats)\r\n",
    "    # Standard sklearn `predict` step:\r\n",
    "    preds = softmax_experiment['model'].predict(X)\r\n",
    "    # Be sure to return the only member of the predictions,\r\n",
    "    # rather than the singleton list:\r\n",
    "    return preds[0]"
   ],
   "outputs": [],
   "metadata": {}
  },
  {
   "cell_type": "markdown",
   "source": [
    "If you used an RNN like the one we demoed above, then featurization is a bit more straightforward:"
   ],
   "metadata": {}
  },
  {
   "cell_type": "code",
   "execution_count": null,
   "source": [
    "def predict_one_rnn(text):\r\n",
    "    # List of tokenized examples:\r\n",
    "    X = [rnn_experiment['phi'](text)]\r\n",
    "    # Standard `predict` step on a list of lists of str:\r\n",
    "    preds = rnn_experiment['model'].predict(X)\r\n",
    "    # Be sure to return the only member of the predictions,\r\n",
    "    # rather than the singleton list:\r\n",
    "    return preds[0]"
   ],
   "outputs": [],
   "metadata": {}
  },
  {
   "cell_type": "markdown",
   "source": [
    "The following function is used to create the bakeoff submission file. Its arguments are your `predict_one` function and an output filename (str)."
   ],
   "metadata": {}
  },
  {
   "cell_type": "code",
   "execution_count": null,
   "source": [
    "def create_bakeoff_submission(\r\n",
    "        predict_one_func,\r\n",
    "        output_filename='cs224u-sentiment-bakeoff-entry.csv'):\r\n",
    "\r\n",
    "    bakeoff_test = sst.bakeoff_test_reader(SST_HOME)\r\n",
    "    sst_test = sst.test_reader(SST_HOME)\r\n",
    "    bakeoff_test['dataset'] = 'bakeoff'\r\n",
    "    sst_test['dataset'] = 'sst3'\r\n",
    "    df = pd.concat((bakeoff_test, sst_test))\r\n",
    "\r\n",
    "    df['prediction'] = df['sentence'].apply(predict_one_func)\r\n",
    "\r\n",
    "    df.to_csv(output_filename, index=None)"
   ],
   "outputs": [],
   "metadata": {}
  },
  {
   "cell_type": "markdown",
   "source": [
    "Thus, for example, the following will create a bake-off entry based on `predict_one_softmax`:"
   ],
   "metadata": {}
  },
  {
   "cell_type": "code",
   "execution_count": null,
   "source": [
    "# This check ensure that the following code only runs on the local environment only.\r\n",
    "# The following call will not be run on the autograder environment.\r\n",
    "if 'IS_GRADESCOPE_ENV' not in os.environ:\r\n",
    "    pass\r\n",
    "    create_bakeoff_submission(predict_one_softmax)"
   ],
   "outputs": [],
   "metadata": {}
  },
  {
   "cell_type": "markdown",
   "source": [
    "This creates a file `cs224u-sentiment-bakeoff-entry.csv` in the current directory. That file should be uploaded as-is. Please do not change its name.\n",
    "\n",
    "Only one upload per team is permitted, and you should do no tuning of your system based on what you see in our bakeoff prediction file – you should not study that file in anyway, beyond perhaps checking that it contains what you expected it to contain. The upload function will do some additional checking to ensure that your file is well-formed.\n",
    "\n",
    "People who enter will receive the additional homework point, and people whose systems achieve the top score will receive an additional 0.5 points. We will test the top-performing systems ourselves, and only systems for which we can reproduce the reported results will win the extra 0.5 points.\n",
    "\n",
    "Late entries will be accepted, but they cannot earn the extra 0.5 points."
   ],
   "metadata": {}
  },
  {
   "cell_type": "markdown",
   "source": [
    "## Submission Instruction\n",
    "\n",
    "Submit the following files to gradescope submission\n",
    "\n",
    "- Please do not change the file name as described below\n",
    "- `hw_sentiment.ipynb` (this notebook)\n",
    "- `cs224u-sentiment-bakeoff-entry.csv` (bake-off output)\n"
   ],
   "metadata": {}
  }
 ],
 "metadata": {
  "kernelspec": {
   "name": "python3",
   "display_name": "Python 3.8.8 64-bit ('nlu': conda)"
  },
  "language_info": {
   "codemirror_mode": {
    "name": "ipython",
    "version": 3
   },
   "file_extension": ".py",
   "mimetype": "text/x-python",
   "name": "python",
   "nbconvert_exporter": "python",
   "pygments_lexer": "ipython3",
   "version": "3.8.8"
  },
  "widgets": {
   "state": {},
   "version": "1.1.2"
  },
  "interpreter": {
   "hash": "b12464ac3a465d819915c4b3b71ee5f6950131ed6146b0f57f1ae33690cc70cf"
  }
 },
 "nbformat": 4,
 "nbformat_minor": 4
}